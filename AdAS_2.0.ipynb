{
 "cells": [
  {
   "cell_type": "markdown",
   "metadata": {},
   "source": [
    "# AdAS 2.0\n",
    "Quick example on how to create an environment for a pipeline of functions.\n",
    "\n",
    "First, we define the functions and inputs, and then we profile the pipeline on the current device. This creates a profile, saving information about the device, inputs, functions and stats about each run (for now latency and utility)."
   ]
  },
  {
   "cell_type": "code",
   "execution_count": 1,
   "metadata": {
    "scrolled": false
   },
   "outputs": [
    {
     "name": "stdout",
     "output_type": "stream",
     "text": [
      "0\n"
     ]
    },
    {
     "name": "stderr",
     "output_type": "stream",
     "text": [
      "100%|██████████| 2/2 [00:10<00:00,  5.03s/it]"
     ]
    },
    {
     "name": "stdout",
     "output_type": "stream",
     "text": [
      "\n",
      "1\n"
     ]
    },
    {
     "name": "stderr",
     "output_type": "stream",
     "text": [
      "\n",
      "100%|██████████| 2/2 [00:10<00:00,  5.04s/it]"
     ]
    },
    {
     "name": "stdout",
     "output_type": "stream",
     "text": [
      "\n",
      "2\n"
     ]
    },
    {
     "name": "stderr",
     "output_type": "stream",
     "text": [
      "\n",
      "100%|██████████| 2/2 [00:10<00:00,  5.04s/it]"
     ]
    },
    {
     "name": "stdout",
     "output_type": "stream",
     "text": [
      "\n",
      "3\n"
     ]
    },
    {
     "name": "stderr",
     "output_type": "stream",
     "text": [
      "\n",
      "100%|██████████| 2/2 [00:10<00:00,  5.04s/it]"
     ]
    },
    {
     "name": "stdout",
     "output_type": "stream",
     "text": [
      "\n",
      "4\n"
     ]
    },
    {
     "name": "stderr",
     "output_type": "stream",
     "text": [
      "\n",
      "100%|██████████| 2/2 [00:10<00:00,  5.03s/it]"
     ]
    },
    {
     "name": "stdout",
     "output_type": "stream",
     "text": [
      "\n",
      "5\n"
     ]
    },
    {
     "name": "stderr",
     "output_type": "stream",
     "text": [
      "\n",
      "100%|██████████| 2/2 [00:10<00:00,  5.03s/it]"
     ]
    },
    {
     "name": "stdout",
     "output_type": "stream",
     "text": [
      "\n",
      "6\n"
     ]
    },
    {
     "name": "stderr",
     "output_type": "stream",
     "text": [
      "\n",
      "100%|██████████| 2/2 [00:10<00:00,  5.03s/it]"
     ]
    },
    {
     "name": "stdout",
     "output_type": "stream",
     "text": [
      "\n",
      "7\n"
     ]
    },
    {
     "name": "stderr",
     "output_type": "stream",
     "text": [
      "\n",
      "100%|██████████| 2/2 [00:10<00:00,  5.04s/it]"
     ]
    },
    {
     "name": "stdout",
     "output_type": "stream",
     "text": [
      "\n",
      "8\n"
     ]
    },
    {
     "name": "stderr",
     "output_type": "stream",
     "text": [
      "\n",
      "100%|██████████| 2/2 [00:10<00:00,  5.04s/it]"
     ]
    },
    {
     "name": "stdout",
     "output_type": "stream",
     "text": [
      "\n",
      "9\n"
     ]
    },
    {
     "name": "stderr",
     "output_type": "stream",
     "text": [
      "\n",
      "100%|██████████| 2/2 [00:10<00:00,  5.03s/it]"
     ]
    },
    {
     "name": "stdout",
     "output_type": "stream",
     "text": [
      "\n",
      "Done\n"
     ]
    },
    {
     "name": "stderr",
     "output_type": "stream",
     "text": [
      "\n"
     ]
    }
   ],
   "source": [
    "import glob\n",
    "import os, sys\n",
    "import cv2\n",
    "import types\n",
    "import time\n",
    "\n",
    "# Imports for AdAS modules.\n",
    "sys.path.append('./simulator/')\n",
    "sys.path.append('./utils/')\n",
    "from profiler import profile\n",
    "from entities import AdASIO, AdASFunction\n",
    "\n",
    "#================================== FUNCTIONS ==================================#\n",
    "# wrapper for detect_faces in utils\n",
    "def add_numbers(n1, n2):\n",
    "    return n1+n2\n",
    "\n",
    "def square_number(n):\n",
    "    return n*n\n",
    "\n",
    "f_add_numbers = AdASFunction(function = add_numbers, \n",
    "                            params = {'n2': {10:3, 100:10}})\n",
    "f_square_number = AdASFunction(function = square_number, \n",
    "                            params = {})\n",
    "\n",
    "\n",
    "#====================================== IO =====================================#\n",
    "pipeline_inputs = []\n",
    "for number in range(10):\n",
    "    pipeline_inputs.append(AdASIO(io_value=number))\n",
    "\n",
    "#=================================== PROFILE ==================================#\n",
    "# The first function takes the input from pipeline_inputs, the next ones, take\n",
    "# as input the output of the previous function, i.e.: square_number(add_numbers(p_input)).\n",
    "# The output of the last function will be save to results file.\n",
    "pipeline = [f_add_numbers, f_square_number]\n",
    "# profile(device id, list of functions to run in order, list of inputs to use, n_repetitions). \n",
    "profile('mac_nec', pipeline, pipeline_inputs, 5)\n",
    "print('Done')"
   ]
  },
  {
   "cell_type": "markdown",
   "metadata": {},
   "source": [
    "## Check results generated by the profiler\n",
    "The outputs of the profiler are a .pkl file, which contains the profile with all of its information to be used later by a simulator and a results.csv file, which show all the information obtained by the profiler while running the pipeline."
   ]
  },
  {
   "cell_type": "code",
   "execution_count": 2,
   "metadata": {},
   "outputs": [
    {
     "data": {
      "text/html": [
       "<div>\n",
       "<style scoped>\n",
       "    .dataframe tbody tr th:only-of-type {\n",
       "        vertical-align: middle;\n",
       "    }\n",
       "\n",
       "    .dataframe tbody tr th {\n",
       "        vertical-align: top;\n",
       "    }\n",
       "\n",
       "    .dataframe thead th {\n",
       "        text-align: right;\n",
       "    }\n",
       "</style>\n",
       "<table border=\"1\" class=\"dataframe\">\n",
       "  <thead>\n",
       "    <tr style=\"text-align: right;\">\n",
       "      <th></th>\n",
       "      <th>Unnamed: 0</th>\n",
       "      <th>io_value</th>\n",
       "      <th>io_id</th>\n",
       "      <th>io_size</th>\n",
       "      <th>io_format</th>\n",
       "      <th>add_numbers_n2</th>\n",
       "      <th>cpu_idle</th>\n",
       "      <th>memory_available</th>\n",
       "      <th>add_numbers_start</th>\n",
       "      <th>add_numbers_end</th>\n",
       "      <th>square_number_start</th>\n",
       "      <th>square_number_end</th>\n",
       "      <th>output</th>\n",
       "    </tr>\n",
       "  </thead>\n",
       "  <tbody>\n",
       "    <tr>\n",
       "      <th>0</th>\n",
       "      <td>0</td>\n",
       "      <td>0</td>\n",
       "      <td>0</td>\n",
       "      <td>24</td>\n",
       "      <td>&lt;class 'int'&gt;</td>\n",
       "      <td>10</td>\n",
       "      <td>81.2</td>\n",
       "      <td>2183655424</td>\n",
       "      <td>1.584099e+09</td>\n",
       "      <td>1.584099e+09</td>\n",
       "      <td>1.584099e+09</td>\n",
       "      <td>1.584099e+09</td>\n",
       "      <td>100</td>\n",
       "    </tr>\n",
       "    <tr>\n",
       "      <th>1</th>\n",
       "      <td>1</td>\n",
       "      <td>0</td>\n",
       "      <td>0</td>\n",
       "      <td>24</td>\n",
       "      <td>&lt;class 'int'&gt;</td>\n",
       "      <td>10</td>\n",
       "      <td>86.0</td>\n",
       "      <td>2176585728</td>\n",
       "      <td>1.584099e+09</td>\n",
       "      <td>1.584099e+09</td>\n",
       "      <td>1.584099e+09</td>\n",
       "      <td>1.584099e+09</td>\n",
       "      <td>100</td>\n",
       "    </tr>\n",
       "    <tr>\n",
       "      <th>2</th>\n",
       "      <td>2</td>\n",
       "      <td>0</td>\n",
       "      <td>0</td>\n",
       "      <td>24</td>\n",
       "      <td>&lt;class 'int'&gt;</td>\n",
       "      <td>10</td>\n",
       "      <td>86.4</td>\n",
       "      <td>2178281472</td>\n",
       "      <td>1.584099e+09</td>\n",
       "      <td>1.584099e+09</td>\n",
       "      <td>1.584099e+09</td>\n",
       "      <td>1.584099e+09</td>\n",
       "      <td>100</td>\n",
       "    </tr>\n",
       "    <tr>\n",
       "      <th>3</th>\n",
       "      <td>3</td>\n",
       "      <td>0</td>\n",
       "      <td>0</td>\n",
       "      <td>24</td>\n",
       "      <td>&lt;class 'int'&gt;</td>\n",
       "      <td>10</td>\n",
       "      <td>89.2</td>\n",
       "      <td>2180857856</td>\n",
       "      <td>1.584099e+09</td>\n",
       "      <td>1.584099e+09</td>\n",
       "      <td>1.584099e+09</td>\n",
       "      <td>1.584099e+09</td>\n",
       "      <td>100</td>\n",
       "    </tr>\n",
       "    <tr>\n",
       "      <th>4</th>\n",
       "      <td>4</td>\n",
       "      <td>0</td>\n",
       "      <td>0</td>\n",
       "      <td>24</td>\n",
       "      <td>&lt;class 'int'&gt;</td>\n",
       "      <td>10</td>\n",
       "      <td>87.8</td>\n",
       "      <td>2167971840</td>\n",
       "      <td>1.584099e+09</td>\n",
       "      <td>1.584099e+09</td>\n",
       "      <td>1.584099e+09</td>\n",
       "      <td>1.584099e+09</td>\n",
       "      <td>100</td>\n",
       "    </tr>\n",
       "    <tr>\n",
       "      <th>...</th>\n",
       "      <td>...</td>\n",
       "      <td>...</td>\n",
       "      <td>...</td>\n",
       "      <td>...</td>\n",
       "      <td>...</td>\n",
       "      <td>...</td>\n",
       "      <td>...</td>\n",
       "      <td>...</td>\n",
       "      <td>...</td>\n",
       "      <td>...</td>\n",
       "      <td>...</td>\n",
       "      <td>...</td>\n",
       "      <td>...</td>\n",
       "    </tr>\n",
       "    <tr>\n",
       "      <th>95</th>\n",
       "      <td>95</td>\n",
       "      <td>9</td>\n",
       "      <td>9</td>\n",
       "      <td>28</td>\n",
       "      <td>&lt;class 'int'&gt;</td>\n",
       "      <td>100</td>\n",
       "      <td>86.3</td>\n",
       "      <td>2189783040</td>\n",
       "      <td>1.584099e+09</td>\n",
       "      <td>1.584099e+09</td>\n",
       "      <td>1.584099e+09</td>\n",
       "      <td>1.584099e+09</td>\n",
       "      <td>11881</td>\n",
       "    </tr>\n",
       "    <tr>\n",
       "      <th>96</th>\n",
       "      <td>96</td>\n",
       "      <td>9</td>\n",
       "      <td>9</td>\n",
       "      <td>28</td>\n",
       "      <td>&lt;class 'int'&gt;</td>\n",
       "      <td>100</td>\n",
       "      <td>98.0</td>\n",
       "      <td>2178187264</td>\n",
       "      <td>1.584099e+09</td>\n",
       "      <td>1.584099e+09</td>\n",
       "      <td>1.584099e+09</td>\n",
       "      <td>1.584099e+09</td>\n",
       "      <td>11881</td>\n",
       "    </tr>\n",
       "    <tr>\n",
       "      <th>97</th>\n",
       "      <td>97</td>\n",
       "      <td>9</td>\n",
       "      <td>9</td>\n",
       "      <td>28</td>\n",
       "      <td>&lt;class 'int'&gt;</td>\n",
       "      <td>100</td>\n",
       "      <td>91.1</td>\n",
       "      <td>2177396736</td>\n",
       "      <td>1.584099e+09</td>\n",
       "      <td>1.584099e+09</td>\n",
       "      <td>1.584099e+09</td>\n",
       "      <td>1.584099e+09</td>\n",
       "      <td>11881</td>\n",
       "    </tr>\n",
       "    <tr>\n",
       "      <th>98</th>\n",
       "      <td>98</td>\n",
       "      <td>9</td>\n",
       "      <td>9</td>\n",
       "      <td>28</td>\n",
       "      <td>&lt;class 'int'&gt;</td>\n",
       "      <td>100</td>\n",
       "      <td>98.3</td>\n",
       "      <td>2177564672</td>\n",
       "      <td>1.584099e+09</td>\n",
       "      <td>1.584099e+09</td>\n",
       "      <td>1.584099e+09</td>\n",
       "      <td>1.584099e+09</td>\n",
       "      <td>11881</td>\n",
       "    </tr>\n",
       "    <tr>\n",
       "      <th>99</th>\n",
       "      <td>99</td>\n",
       "      <td>9</td>\n",
       "      <td>9</td>\n",
       "      <td>28</td>\n",
       "      <td>&lt;class 'int'&gt;</td>\n",
       "      <td>100</td>\n",
       "      <td>94.3</td>\n",
       "      <td>2177466368</td>\n",
       "      <td>1.584099e+09</td>\n",
       "      <td>1.584099e+09</td>\n",
       "      <td>1.584099e+09</td>\n",
       "      <td>1.584099e+09</td>\n",
       "      <td>11881</td>\n",
       "    </tr>\n",
       "  </tbody>\n",
       "</table>\n",
       "<p>100 rows × 13 columns</p>\n",
       "</div>"
      ],
      "text/plain": [
       "    Unnamed: 0  io_value  io_id  io_size      io_format  add_numbers_n2  \\\n",
       "0            0         0      0       24  <class 'int'>              10   \n",
       "1            1         0      0       24  <class 'int'>              10   \n",
       "2            2         0      0       24  <class 'int'>              10   \n",
       "3            3         0      0       24  <class 'int'>              10   \n",
       "4            4         0      0       24  <class 'int'>              10   \n",
       "..         ...       ...    ...      ...            ...             ...   \n",
       "95          95         9      9       28  <class 'int'>             100   \n",
       "96          96         9      9       28  <class 'int'>             100   \n",
       "97          97         9      9       28  <class 'int'>             100   \n",
       "98          98         9      9       28  <class 'int'>             100   \n",
       "99          99         9      9       28  <class 'int'>             100   \n",
       "\n",
       "    cpu_idle  memory_available  add_numbers_start  add_numbers_end  \\\n",
       "0       81.2        2183655424       1.584099e+09     1.584099e+09   \n",
       "1       86.0        2176585728       1.584099e+09     1.584099e+09   \n",
       "2       86.4        2178281472       1.584099e+09     1.584099e+09   \n",
       "3       89.2        2180857856       1.584099e+09     1.584099e+09   \n",
       "4       87.8        2167971840       1.584099e+09     1.584099e+09   \n",
       "..       ...               ...                ...              ...   \n",
       "95      86.3        2189783040       1.584099e+09     1.584099e+09   \n",
       "96      98.0        2178187264       1.584099e+09     1.584099e+09   \n",
       "97      91.1        2177396736       1.584099e+09     1.584099e+09   \n",
       "98      98.3        2177564672       1.584099e+09     1.584099e+09   \n",
       "99      94.3        2177466368       1.584099e+09     1.584099e+09   \n",
       "\n",
       "    square_number_start  square_number_end  output  \n",
       "0          1.584099e+09       1.584099e+09     100  \n",
       "1          1.584099e+09       1.584099e+09     100  \n",
       "2          1.584099e+09       1.584099e+09     100  \n",
       "3          1.584099e+09       1.584099e+09     100  \n",
       "4          1.584099e+09       1.584099e+09     100  \n",
       "..                  ...                ...     ...  \n",
       "95         1.584099e+09       1.584099e+09   11881  \n",
       "96         1.584099e+09       1.584099e+09   11881  \n",
       "97         1.584099e+09       1.584099e+09   11881  \n",
       "98         1.584099e+09       1.584099e+09   11881  \n",
       "99         1.584099e+09       1.584099e+09   11881  \n",
       "\n",
       "[100 rows x 13 columns]"
      ]
     },
     "execution_count": 2,
     "metadata": {},
     "output_type": "execute_result"
    }
   ],
   "source": [
    "import pandas as pd\n",
    "\n",
    "pd.read_csv('results.csv')"
   ]
  },
  {
   "cell_type": "markdown",
   "metadata": {},
   "source": [
    "## Create a simulator using the profile\n",
    "We read the .pkl file and create a simulator with it. The simulator can simulate the execution of the pipeline for a given input and given parameters. Note that the combination of parameters and input that we want to simulate, should have been given to the profiler."
   ]
  },
  {
   "cell_type": "code",
   "execution_count": 3,
   "metadata": {},
   "outputs": [
    {
     "data": {
      "text/plain": [
       "defaultdict(list,\n",
       "            {'utility': 0,\n",
       "             'latency': [6.198883056640625e-06, 3.0994415283203125e-06]})"
      ]
     },
     "execution_count": 3,
     "metadata": {},
     "output_type": "execute_result"
    }
   ],
   "source": [
    "from simulator import AdASSimulator\n",
    "\n",
    "simulator = AdASSimulator('profile_mac_nec.pkl')\n",
    "simulator.sim(pipeline_inputs[0], {'n2': 100})"
   ]
  },
  {
   "cell_type": "markdown",
   "metadata": {},
   "source": [
    "## Create an RL environment\n",
    "Finally, we create an environment using the simulator, giving a latency constrain, a set of inputs and the settings we want for our environment. We can then use it just as any other OpenAI Gym environment."
   ]
  },
  {
   "cell_type": "code",
   "execution_count": 4,
   "metadata": {},
   "outputs": [],
   "source": [
    "from environment import AdASEnvironment\n",
    "\n",
    "'''\n",
    "Keyword arguments:\n",
    "    - simulator: an AdASSimulator class, with a profile loaded.\n",
    "    - latency_target: maximum end-to-end latency allowed for application.\n",
    "    - inputs: an array of AdASIO that will be used one per step.\n",
    "    - sample_inputs: True if inputs should be sampled, False if should be used \n",
    "                     as list.\n",
    "    - n_steps: number of steps before environment finishes, if None environment\n",
    "               never finishes.\n",
    "    - state_mask: defines array to be returned as state. If None, all are \n",
    "                  returned. Options: 'available_cpu', 'latency', \n",
    "                  'params', 'utility', 'input'.\n",
    "                  Note: params will add one element per parameter to the \n",
    "                  state array.\n",
    "'''\n",
    "env_exc = AdASEnvironment(simulator,\n",
    "                          latency_target=1.0,\n",
    "                          inputs=[AdASIO(io_value=_) for _ in range(2)], \n",
    "                          sample_inputs=True, \n",
    "                          n_steps=100, \n",
    "                          state_mask=['params', 'available_cpu', 'utility'])"
   ]
  },
  {
   "cell_type": "code",
   "execution_count": 5,
   "metadata": {},
   "outputs": [],
   "source": [
    "state, reward, finish, info = env_exc.step(0)"
   ]
  },
  {
   "cell_type": "code",
   "execution_count": null,
   "metadata": {},
   "outputs": [],
   "source": []
  }
 ],
 "metadata": {
  "kernelspec": {
   "display_name": "Python 3",
   "language": "python",
   "name": "python3"
  },
  "language_info": {
   "codemirror_mode": {
    "name": "ipython",
    "version": 3
   },
   "file_extension": ".py",
   "mimetype": "text/x-python",
   "name": "python",
   "nbconvert_exporter": "python",
   "pygments_lexer": "ipython3",
   "version": "3.7.3"
  }
 },
 "nbformat": 4,
 "nbformat_minor": 2
}
