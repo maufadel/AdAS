{
 "cells": [
  {
   "cell_type": "code",
   "execution_count": 2,
   "metadata": {},
   "outputs": [
    {
     "name": "stdout",
     "output_type": "stream",
     "text": [
      "compute_me\n",
      "{'resolution': 2}\n",
      "['3', '2']\n",
      "{'resolution': {1000: 10, 500: 7, 200: 2}}\n"
     ]
    },
    {
     "data": {
      "text/plain": [
       "5"
      ]
     },
     "execution_count": 2,
     "metadata": {},
     "output_type": "execute_result"
    }
   ],
   "source": [
    "import functools\n",
    "import time\n",
    "\n",
    "def display_arguments(func):\n",
    "    static_var = []\n",
    "    \n",
    "    @functools.wraps(func)\n",
    "    def display_and_call(*args, **kwargs):\n",
    "        print(func.__name__)\n",
    "        all_args = list(args)\n",
    "        all_args.extend([str(kwargs.get(k)) for k in sorted(kwargs.keys())])\n",
    "        print([str(i) for i in all_args])\n",
    "        static_var.append(all_args)\n",
    "        print(static_var)\n",
    "        return func(*args, **kwargs)   \n",
    "    return display_and_call\n",
    "\n",
    "\n",
    "def async_future(timeout=None, **hints):\n",
    "    def decorator(func):\n",
    "        @functools.wraps(func)\n",
    "        def wrapped(*args, **kwargs):\n",
    "            print(func.__name__)\n",
    "            print(kwargs)\n",
    "            all_args = list(args)\n",
    "            all_args.extend([str(kwargs.get(k)) for k in sorted(kwargs.keys())])\n",
    "            print([str(i) for i in all_args])\n",
    "            print(hints)\n",
    "            return func(*args, **kwargs)\n",
    "        return wrapped\n",
    "    return decorator\n",
    "\n",
    "\n",
    "def adapt(*args, **kwargs):\n",
    "    if args != ():\n",
    "        raise ValueError(\"Only keyword arguments are adaptable\")\n",
    "    return async_future(**kwargs)\n",
    "\n",
    "@adapt(resolution={1000: 10, 500: 7, 200: 2})\n",
    "def compute_me(number1, resolution=42):\n",
    "    time.sleep(1)\n",
    "    return number1 + resolution\n",
    "\n",
    "compute_me(3, resolution=2)"
   ]
  },
  {
   "cell_type": "code",
   "execution_count": null,
   "metadata": {},
   "outputs": [],
   "source": []
  }
 ],
 "metadata": {
  "kernelspec": {
   "display_name": "Python 3",
   "language": "python",
   "name": "python3"
  },
  "language_info": {
   "codemirror_mode": {
    "name": "ipython",
    "version": 3
   },
   "file_extension": ".py",
   "mimetype": "text/x-python",
   "name": "python",
   "nbconvert_exporter": "python",
   "pygments_lexer": "ipython3",
   "version": "3.7.3"
  }
 },
 "nbformat": 4,
 "nbformat_minor": 2
}
